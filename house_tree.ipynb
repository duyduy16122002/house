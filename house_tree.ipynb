{
 "cells": [
  {
   "cell_type": "code",
   "execution_count": 2,
   "id": "c66569ba",
   "metadata": {},
   "outputs": [],
   "source": [
    "import math as m\n",
    "import turtle as t"
   ]
  },
  {
   "cell_type": "code",
   "execution_count": 40,
   "id": "2c906b93",
   "metadata": {
    "scrolled": true
   },
   "outputs": [],
   "source": [
    "#Tạo và điều chỉnh pen\n",
    "pen = t.Turtle()\n",
    "pen.pencolor(\"black\")\n",
    "pen.penup()\n",
    "pen.backward(300)\n",
    "pen.right(90)\n",
    "pen.forward(50)\n",
    "pen.left(90)\n",
    "pen.speed(5)\n",
    "pen.pendown()"
   ]
  },
  {
   "cell_type": "code",
   "execution_count": 41,
   "id": "31c641b8",
   "metadata": {
    "scrolled": true
   },
   "outputs": [],
   "source": [
    "# House\n",
    "#P1\n",
    "pen.fillcolor(\"DarkGoldenrod1\")\n",
    "pen.begin_fill()\n",
    "for i in range(4):\n",
    "    pen.forward(150)\n",
    "    pen.right(90)\n",
    "pen.end_fill()\n",
    "#P2\n",
    "pen.fillcolor(\"firebrick\")\n",
    "pen.begin_fill()\n",
    "for i in range (3):\n",
    "    pen.forward(150)\n",
    "    pen.left(120)\n",
    "pen.end_fill()\n",
    "#P3\n",
    "pen.penup()\n",
    "pen.forward(150)\n",
    "pen.pendown()\n",
    "pen.fillcolor(\"DarkGoldenrod1\")\n",
    "pen.begin_fill()\n",
    "pen.left(20)\n",
    "pen.forward(120)\n",
    "pen.right(110)\n",
    "pen.forward(150)\n",
    "pen.right(70)\n",
    "pen.forward(121)\n",
    "pen.right(110)\n",
    "pen.forward(150)\n",
    "pen.end_fill()\n",
    "#P4\n",
    "pen.fillcolor(\"firebrick\")\n",
    "pen.begin_fill()\n",
    "pen.left(30)\n",
    "pen.forward(150)\n",
    "pen.right(102)\n",
    "pen.forward(135)\n",
    "pen.right(83.5)\n",
    "pen.forward(143)\n",
    "pen.right(95)\n",
    "pen.forward(123)\n",
    "pen.end_fill()\n",
    "#P5\n",
    "pen.penup()\n",
    "pen.home()\n",
    "pen.backward(300)\n",
    "pen.right(90)\n",
    "pen.forward(200)\n",
    "pen.left(90)\n",
    "pen.forward(55)\n",
    "pen.pendown()\n",
    "pen.fillcolor(\"DodgerBlue3\")\n",
    "pen.begin_fill()\n",
    "pen.left(90)\n",
    "pen.forward(85)\n",
    "pen.right(90)\n",
    "pen.forward(40)\n",
    "pen.right(90)\n",
    "pen.forward(85)\n",
    "pen.right(90)\n",
    "pen.forward(40)\n",
    "pen.end_fill()\n"
   ]
  },
  {
   "cell_type": "code",
   "execution_count": 42,
   "id": "fdfad977",
   "metadata": {},
   "outputs": [],
   "source": [
    "# Tree\n",
    "pen.penup()\n",
    "pen.home()\n",
    "pen.forward(170)\n",
    "pen.right(90)\n",
    "pen.forward(150)\n",
    "pen.left(90)\n",
    "pen.pendown()\n",
    "#Thân cây\n",
    "pen.fillcolor(\"sienna\")\n",
    "pen.begin_fill()\n",
    "pen.forward(40) \n",
    "pen.left(90)\n",
    "pen.forward(100) \n",
    "pen.left(90)   \n",
    "pen.forward(40) \n",
    "pen.left(90)\n",
    "pen.forward(100) \n",
    "pen.left(90)   \n",
    "pen.end_fill()\n",
    "# Lá\n",
    "pen.penup()\n",
    "pen.left(90)\n",
    "pen.forward(90)\n",
    "pen.right(90)\n",
    "pen.forward(20)\n",
    "pen.pendown()\n",
    "pen.fillcolor(\"SpringGreen3\")\n",
    "pen.begin_fill()\n",
    "pen.circle(60)\n",
    "pen.end_fill()"
   ]
  },
  {
   "cell_type": "code",
   "execution_count": 43,
   "id": "02df4fa0",
   "metadata": {
    "scrolled": true
   },
   "outputs": [],
   "source": [
    "t.done()"
   ]
  },
  {
   "cell_type": "code",
   "execution_count": null,
   "id": "d1fc9b98",
   "metadata": {},
   "outputs": [],
   "source": []
  }
 ],
 "metadata": {
  "kernelspec": {
   "display_name": "Python 3 (ipykernel)",
   "language": "python",
   "name": "python3"
  },
  "language_info": {
   "codemirror_mode": {
    "name": "ipython",
    "version": 3
   },
   "file_extension": ".py",
   "mimetype": "text/x-python",
   "name": "python",
   "nbconvert_exporter": "python",
   "pygments_lexer": "ipython3",
   "version": "3.9.12"
  }
 },
 "nbformat": 4,
 "nbformat_minor": 5
}
